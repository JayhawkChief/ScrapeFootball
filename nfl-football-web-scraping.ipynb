{
 "cells": [
  {
   "cell_type": "code",
   "execution_count": 1,
   "id": "e47b2744",
   "metadata": {
    "execution": {
     "iopub.execute_input": "2022-08-02T04:10:01.395776Z",
     "iopub.status.busy": "2022-08-02T04:10:01.395344Z",
     "iopub.status.idle": "2022-08-02T04:10:01.591126Z",
     "shell.execute_reply": "2022-08-02T04:10:01.589900Z"
    },
    "papermill": {
     "duration": 0.20676,
     "end_time": "2022-08-02T04:10:01.594038",
     "exception": false,
     "start_time": "2022-08-02T04:10:01.387278",
     "status": "completed"
    },
    "tags": []
   },
   "outputs": [],
   "source": [
    "import urllib.request\n",
    "from urllib.request import urlopen\n",
    "from bs4 import BeautifulSoup\n",
    "\n",
    "import pandas as pd\n",
    "import numpy as np\n",
    "import matplotlib as mpl\n",
    "import matplotlib.pyplot as plt\n"
   ]
  },
  {
   "cell_type": "code",
   "execution_count": 2,
   "id": "47660dde",
   "metadata": {
    "execution": {
     "iopub.execute_input": "2022-08-02T04:10:01.606628Z",
     "iopub.status.busy": "2022-08-02T04:10:01.605929Z",
     "iopub.status.idle": "2022-08-02T04:10:03.754884Z",
     "shell.execute_reply": "2022-08-02T04:10:03.753352Z"
    },
    "papermill": {
     "duration": 2.158679,
     "end_time": "2022-08-02T04:10:03.758083",
     "exception": false,
     "start_time": "2022-08-02T04:10:01.599404",
     "status": "completed"
    },
    "tags": []
   },
   "outputs": [],
   "source": [
    "urllib.request.urlopen(\"https://www.pro-football-reference.com/years/2021/passing.htm\")\n",
    "# print(r.status)\n",
    "# print(r)\n",
    "\n",
    "url = \"https://www.pro-football-reference.com/years/2021/passing.htm\"\n",
    "\n",
    "html = urlopen(url)\n",
    "stats_page = BeautifulSoup(html, \"html.parser\")"
   ]
  },
  {
   "cell_type": "code",
   "execution_count": 3,
   "id": "1489d3ea",
   "metadata": {
    "execution": {
     "iopub.execute_input": "2022-08-02T04:10:03.773682Z",
     "iopub.status.busy": "2022-08-02T04:10:03.772746Z",
     "iopub.status.idle": "2022-08-02T04:10:03.788307Z",
     "shell.execute_reply": "2022-08-02T04:10:03.787320Z"
    },
    "papermill": {
     "duration": 0.02688,
     "end_time": "2022-08-02T04:10:03.792843",
     "exception": false,
     "start_time": "2022-08-02T04:10:03.765963",
     "status": "completed"
    },
    "tags": []
   },
   "outputs": [
    {
     "name": "stdout",
     "output_type": "stream",
     "text": [
      "['Rk', 'Player', 'Tm', 'Age', 'Pos', 'G', 'GS', 'QBrec', 'Cmp', 'Att', 'Cmp%', 'Yds', 'TD', 'TD%', 'Int', 'Int%', '1D', 'Lng', 'Y/A', 'AY/A', 'Y/C', 'Y/G', 'Rate', 'QBR', 'Sk', 'Yds', 'Sk%', 'NY/A', 'ANY/A', '4QC', 'GWD']\n"
     ]
    }
   ],
   "source": [
    "# Collect table headers\n",
    "column_headers = stats_page.findAll('tr')[0]\n",
    "column_headers = [i.getText() for i in column_headers.findAll('th')]\n",
    "print(column_headers)"
   ]
  },
  {
   "cell_type": "code",
   "execution_count": 4,
   "id": "bf5038f3",
   "metadata": {
    "execution": {
     "iopub.execute_input": "2022-08-02T04:10:03.806434Z",
     "iopub.status.busy": "2022-08-02T04:10:03.805801Z",
     "iopub.status.idle": "2022-08-02T04:10:03.833851Z",
     "shell.execute_reply": "2022-08-02T04:10:03.832723Z"
    },
    "papermill": {
     "duration": 0.038427,
     "end_time": "2022-08-02T04:10:03.836937",
     "exception": false,
     "start_time": "2022-08-02T04:10:03.798510",
     "status": "completed"
    },
    "tags": []
   },
   "outputs": [
    {
     "name": "stdout",
     "output_type": "stream",
     "text": [
      "['Tom Brady*', 'TAM', '44', 'QB', '17', '17', '13-4-0', '485', '719', '67.5', '5316', '43', '6', '12', '1.7', '269', '62', '7.4', '7.8', '11.0', '312.7', '102.1', '68.1', '22', '144', '3', '6.98', '7.41', '3', '5']\n"
     ]
    }
   ],
   "source": [
    "# Collect table rows\n",
    "rows = stats_page.findAll('tr')[1:]\n",
    "\n",
    "# Get stats from each row\n",
    "qb_stats = []\n",
    "for i in range(len(rows)):\n",
    "    qb_stats.append([col.getText() for col in rows[i].findAll('td')])\n",
    "print(qb_stats[0])"
   ]
  },
  {
   "cell_type": "code",
   "execution_count": 5,
   "id": "af59226e",
   "metadata": {
    "execution": {
     "iopub.execute_input": "2022-08-02T04:10:03.850571Z",
     "iopub.status.busy": "2022-08-02T04:10:03.849889Z",
     "iopub.status.idle": "2022-08-02T04:10:03.887614Z",
     "shell.execute_reply": "2022-08-02T04:10:03.886420Z"
    },
    "papermill": {
     "duration": 0.047775,
     "end_time": "2022-08-02T04:10:03.890419",
     "exception": false,
     "start_time": "2022-08-02T04:10:03.842644",
     "status": "completed"
    },
    "tags": []
   },
   "outputs": [
    {
     "data": {
      "text/html": [
       "<div>\n",
       "<style scoped>\n",
       "    .dataframe tbody tr th:only-of-type {\n",
       "        vertical-align: middle;\n",
       "    }\n",
       "\n",
       "    .dataframe tbody tr th {\n",
       "        vertical-align: top;\n",
       "    }\n",
       "\n",
       "    .dataframe thead th {\n",
       "        text-align: right;\n",
       "    }\n",
       "</style>\n",
       "<table border=\"1\" class=\"dataframe\">\n",
       "  <thead>\n",
       "    <tr style=\"text-align: right;\">\n",
       "      <th></th>\n",
       "      <th>Player</th>\n",
       "      <th>Tm</th>\n",
       "      <th>Age</th>\n",
       "      <th>Pos</th>\n",
       "      <th>G</th>\n",
       "      <th>GS</th>\n",
       "      <th>QBrec</th>\n",
       "      <th>Cmp</th>\n",
       "      <th>Att</th>\n",
       "      <th>Cmp%</th>\n",
       "      <th>...</th>\n",
       "      <th>Y/G</th>\n",
       "      <th>Rate</th>\n",
       "      <th>QBR</th>\n",
       "      <th>Sk</th>\n",
       "      <th>Yds</th>\n",
       "      <th>Sk%</th>\n",
       "      <th>NY/A</th>\n",
       "      <th>ANY/A</th>\n",
       "      <th>4QC</th>\n",
       "      <th>GWD</th>\n",
       "    </tr>\n",
       "  </thead>\n",
       "  <tbody>\n",
       "    <tr>\n",
       "      <th>0</th>\n",
       "      <td>Tom Brady*</td>\n",
       "      <td>TAM</td>\n",
       "      <td>44</td>\n",
       "      <td>QB</td>\n",
       "      <td>17</td>\n",
       "      <td>17</td>\n",
       "      <td>13-4-0</td>\n",
       "      <td>485</td>\n",
       "      <td>719</td>\n",
       "      <td>67.5</td>\n",
       "      <td>...</td>\n",
       "      <td>312.7</td>\n",
       "      <td>102.1</td>\n",
       "      <td>68.1</td>\n",
       "      <td>22</td>\n",
       "      <td>144</td>\n",
       "      <td>3</td>\n",
       "      <td>6.98</td>\n",
       "      <td>7.41</td>\n",
       "      <td>3</td>\n",
       "      <td>5</td>\n",
       "    </tr>\n",
       "    <tr>\n",
       "      <th>1</th>\n",
       "      <td>Justin Herbert*</td>\n",
       "      <td>LAC</td>\n",
       "      <td>23</td>\n",
       "      <td>QB</td>\n",
       "      <td>17</td>\n",
       "      <td>17</td>\n",
       "      <td>9-8-0</td>\n",
       "      <td>443</td>\n",
       "      <td>672</td>\n",
       "      <td>65.9</td>\n",
       "      <td>...</td>\n",
       "      <td>294.9</td>\n",
       "      <td>97.7</td>\n",
       "      <td>65.6</td>\n",
       "      <td>31</td>\n",
       "      <td>214</td>\n",
       "      <td>4.4</td>\n",
       "      <td>6.83</td>\n",
       "      <td>6.95</td>\n",
       "      <td>5</td>\n",
       "      <td>5</td>\n",
       "    </tr>\n",
       "    <tr>\n",
       "      <th>2</th>\n",
       "      <td>Matthew Stafford</td>\n",
       "      <td>LAR</td>\n",
       "      <td>33</td>\n",
       "      <td>QB</td>\n",
       "      <td>17</td>\n",
       "      <td>17</td>\n",
       "      <td>12-5-0</td>\n",
       "      <td>404</td>\n",
       "      <td>601</td>\n",
       "      <td>67.2</td>\n",
       "      <td>...</td>\n",
       "      <td>287.4</td>\n",
       "      <td>102.9</td>\n",
       "      <td>63.8</td>\n",
       "      <td>30</td>\n",
       "      <td>243</td>\n",
       "      <td>4.8</td>\n",
       "      <td>7.36</td>\n",
       "      <td>7.45</td>\n",
       "      <td>3</td>\n",
       "      <td>4</td>\n",
       "    </tr>\n",
       "    <tr>\n",
       "      <th>3</th>\n",
       "      <td>Patrick Mahomes*</td>\n",
       "      <td>KAN</td>\n",
       "      <td>26</td>\n",
       "      <td>QB</td>\n",
       "      <td>17</td>\n",
       "      <td>17</td>\n",
       "      <td>12-5-0</td>\n",
       "      <td>436</td>\n",
       "      <td>658</td>\n",
       "      <td>66.3</td>\n",
       "      <td>...</td>\n",
       "      <td>284.6</td>\n",
       "      <td>98.5</td>\n",
       "      <td>62.2</td>\n",
       "      <td>28</td>\n",
       "      <td>146</td>\n",
       "      <td>4.1</td>\n",
       "      <td>6.84</td>\n",
       "      <td>7.07</td>\n",
       "      <td>3</td>\n",
       "      <td>3</td>\n",
       "    </tr>\n",
       "    <tr>\n",
       "      <th>4</th>\n",
       "      <td>Derek Carr</td>\n",
       "      <td>LVR</td>\n",
       "      <td>30</td>\n",
       "      <td>QB</td>\n",
       "      <td>17</td>\n",
       "      <td>17</td>\n",
       "      <td>10-7-0</td>\n",
       "      <td>428</td>\n",
       "      <td>626</td>\n",
       "      <td>68.4</td>\n",
       "      <td>...</td>\n",
       "      <td>282.6</td>\n",
       "      <td>94.0</td>\n",
       "      <td>52.4</td>\n",
       "      <td>40</td>\n",
       "      <td>241</td>\n",
       "      <td>6</td>\n",
       "      <td>6.85</td>\n",
       "      <td>6.60</td>\n",
       "      <td>3</td>\n",
       "      <td>6</td>\n",
       "    </tr>\n",
       "  </tbody>\n",
       "</table>\n",
       "<p>5 rows × 30 columns</p>\n",
       "</div>"
      ],
      "text/plain": [
       "             Player   Tm Age Pos   G  GS   QBrec  Cmp  Att  Cmp%  ...    Y/G  \\\n",
       "0        Tom Brady*  TAM  44  QB  17  17  13-4-0  485  719  67.5  ...  312.7   \n",
       "1   Justin Herbert*  LAC  23  QB  17  17   9-8-0  443  672  65.9  ...  294.9   \n",
       "2  Matthew Stafford  LAR  33  QB  17  17  12-5-0  404  601  67.2  ...  287.4   \n",
       "3  Patrick Mahomes*  KAN  26  QB  17  17  12-5-0  436  658  66.3  ...  284.6   \n",
       "4        Derek Carr  LVR  30  QB  17  17  10-7-0  428  626  68.4  ...  282.6   \n",
       "\n",
       "    Rate   QBR  Sk  Yds  Sk%  NY/A ANY/A 4QC GWD  \n",
       "0  102.1  68.1  22  144    3  6.98  7.41   3   5  \n",
       "1   97.7  65.6  31  214  4.4  6.83  6.95   5   5  \n",
       "2  102.9  63.8  30  243  4.8  7.36  7.45   3   4  \n",
       "3   98.5  62.2  28  146  4.1  6.84  7.07   3   3  \n",
       "4   94.0  52.4  40  241    6  6.85  6.60   3   6  \n",
       "\n",
       "[5 rows x 30 columns]"
      ]
     },
     "execution_count": 5,
     "metadata": {},
     "output_type": "execute_result"
    }
   ],
   "source": [
    "# Create DataFrame from our scraped data\n",
    "data = pd.DataFrame(qb_stats, columns=column_headers[1:])\n",
    "data.head()"
   ]
  },
  {
   "cell_type": "code",
   "execution_count": 6,
   "id": "2d4ce16b",
   "metadata": {
    "execution": {
     "iopub.execute_input": "2022-08-02T04:10:03.903797Z",
     "iopub.status.busy": "2022-08-02T04:10:03.903387Z",
     "iopub.status.idle": "2022-08-02T04:10:03.910647Z",
     "shell.execute_reply": "2022-08-02T04:10:03.909368Z"
    },
    "papermill": {
     "duration": 0.018517,
     "end_time": "2022-08-02T04:10:03.914667",
     "exception": false,
     "start_time": "2022-08-02T04:10:03.896150",
     "status": "completed"
    },
    "tags": []
   },
   "outputs": [
    {
     "data": {
      "text/plain": [
       "Index(['Player', 'Tm', 'Age', 'Pos', 'G', 'GS', 'QBrec', 'Cmp', 'Att', 'Cmp%',\n",
       "       'Yds', 'TD', 'TD%', 'Int', 'Int%', '1D', 'Lng', 'Y/A', 'AY/A', 'Y/C',\n",
       "       'Y/G', 'Rate', 'QBR', 'Sk', 'Yds', 'Sk%', 'NY/A', 'ANY/A', '4QC',\n",
       "       'GWD'],\n",
       "      dtype='object')"
      ]
     },
     "execution_count": 6,
     "metadata": {},
     "output_type": "execute_result"
    }
   ],
   "source": [
    "# View columns in data\n",
    "data.columns"
   ]
  },
  {
   "cell_type": "code",
   "execution_count": 7,
   "id": "6c66d67a",
   "metadata": {
    "execution": {
     "iopub.execute_input": "2022-08-02T04:10:03.928290Z",
     "iopub.status.busy": "2022-08-02T04:10:03.927509Z",
     "iopub.status.idle": "2022-08-02T04:10:03.933226Z",
     "shell.execute_reply": "2022-08-02T04:10:03.932186Z"
    },
    "papermill": {
     "duration": 0.015107,
     "end_time": "2022-08-02T04:10:03.935487",
     "exception": false,
     "start_time": "2022-08-02T04:10:03.920380",
     "status": "completed"
    },
    "tags": []
   },
   "outputs": [],
   "source": [
    "# Rename sack yards column to \"Yds_Sack\"\n",
    "new_columns = data.columns.values\n",
    "new_columns[-6] = 'Yds_Sack'\n",
    "data.columns = new_columns"
   ]
  },
  {
   "cell_type": "code",
   "execution_count": 8,
   "id": "759accf4",
   "metadata": {
    "execution": {
     "iopub.execute_input": "2022-08-02T04:10:03.949022Z",
     "iopub.status.busy": "2022-08-02T04:10:03.948256Z",
     "iopub.status.idle": "2022-08-02T04:10:03.955513Z",
     "shell.execute_reply": "2022-08-02T04:10:03.954610Z"
    },
    "papermill": {
     "duration": 0.016714,
     "end_time": "2022-08-02T04:10:03.957900",
     "exception": false,
     "start_time": "2022-08-02T04:10:03.941186",
     "status": "completed"
    },
    "tags": []
   },
   "outputs": [
    {
     "data": {
      "text/plain": [
       "Index(['Player', 'Tm', 'Age', 'Pos', 'G', 'GS', 'QBrec', 'Cmp', 'Att', 'Cmp%',\n",
       "       'Yds', 'TD', 'TD%', 'Int', 'Int%', '1D', 'Lng', 'Y/A', 'AY/A', 'Y/C',\n",
       "       'Y/G', 'Rate', 'QBR', 'Sk', 'Yds_Sack', 'Sk%', 'NY/A', 'ANY/A', '4QC',\n",
       "       'GWD'],\n",
       "      dtype='object')"
      ]
     },
     "execution_count": 8,
     "metadata": {},
     "output_type": "execute_result"
    }
   ],
   "source": [
    "# View columns in data with Sack Yards replacing Yds column\n",
    "data.columns"
   ]
  },
  {
   "cell_type": "code",
   "execution_count": 9,
   "id": "76a9dbf8",
   "metadata": {
    "execution": {
     "iopub.execute_input": "2022-08-02T04:10:03.971652Z",
     "iopub.status.busy": "2022-08-02T04:10:03.970900Z",
     "iopub.status.idle": "2022-08-02T04:10:03.991261Z",
     "shell.execute_reply": "2022-08-02T04:10:03.990075Z"
    },
    "papermill": {
     "duration": 0.030433,
     "end_time": "2022-08-02T04:10:03.994077",
     "exception": false,
     "start_time": "2022-08-02T04:10:03.963644",
     "status": "completed"
    },
    "tags": []
   },
   "outputs": [
    {
     "data": {
      "text/html": [
       "<div>\n",
       "<style scoped>\n",
       "    .dataframe tbody tr th:only-of-type {\n",
       "        vertical-align: middle;\n",
       "    }\n",
       "\n",
       "    .dataframe tbody tr th {\n",
       "        vertical-align: top;\n",
       "    }\n",
       "\n",
       "    .dataframe thead th {\n",
       "        text-align: right;\n",
       "    }\n",
       "</style>\n",
       "<table border=\"1\" class=\"dataframe\">\n",
       "  <thead>\n",
       "    <tr style=\"text-align: right;\">\n",
       "      <th></th>\n",
       "      <th>Player</th>\n",
       "      <th>Tm</th>\n",
       "      <th>Cmp%</th>\n",
       "      <th>Yds</th>\n",
       "      <th>TD</th>\n",
       "      <th>Int</th>\n",
       "      <th>Y/A</th>\n",
       "      <th>Rate</th>\n",
       "    </tr>\n",
       "  </thead>\n",
       "  <tbody>\n",
       "    <tr>\n",
       "      <th>0</th>\n",
       "      <td>Tom Brady*</td>\n",
       "      <td>TAM</td>\n",
       "      <td>67.5</td>\n",
       "      <td>5316</td>\n",
       "      <td>43</td>\n",
       "      <td>12</td>\n",
       "      <td>7.4</td>\n",
       "      <td>102.1</td>\n",
       "    </tr>\n",
       "    <tr>\n",
       "      <th>1</th>\n",
       "      <td>Justin Herbert*</td>\n",
       "      <td>LAC</td>\n",
       "      <td>65.9</td>\n",
       "      <td>5014</td>\n",
       "      <td>38</td>\n",
       "      <td>15</td>\n",
       "      <td>7.5</td>\n",
       "      <td>97.7</td>\n",
       "    </tr>\n",
       "    <tr>\n",
       "      <th>2</th>\n",
       "      <td>Matthew Stafford</td>\n",
       "      <td>LAR</td>\n",
       "      <td>67.2</td>\n",
       "      <td>4886</td>\n",
       "      <td>41</td>\n",
       "      <td>17</td>\n",
       "      <td>8.1</td>\n",
       "      <td>102.9</td>\n",
       "    </tr>\n",
       "    <tr>\n",
       "      <th>3</th>\n",
       "      <td>Patrick Mahomes*</td>\n",
       "      <td>KAN</td>\n",
       "      <td>66.3</td>\n",
       "      <td>4839</td>\n",
       "      <td>37</td>\n",
       "      <td>13</td>\n",
       "      <td>7.4</td>\n",
       "      <td>98.5</td>\n",
       "    </tr>\n",
       "    <tr>\n",
       "      <th>4</th>\n",
       "      <td>Derek Carr</td>\n",
       "      <td>LVR</td>\n",
       "      <td>68.4</td>\n",
       "      <td>4804</td>\n",
       "      <td>23</td>\n",
       "      <td>14</td>\n",
       "      <td>7.7</td>\n",
       "      <td>94.0</td>\n",
       "    </tr>\n",
       "  </tbody>\n",
       "</table>\n",
       "</div>"
      ],
      "text/plain": [
       "             Player   Tm  Cmp%   Yds  TD Int  Y/A   Rate\n",
       "0        Tom Brady*  TAM  67.5  5316  43  12  7.4  102.1\n",
       "1   Justin Herbert*  LAC  65.9  5014  38  15  7.5   97.7\n",
       "2  Matthew Stafford  LAR  67.2  4886  41  17  8.1  102.9\n",
       "3  Patrick Mahomes*  KAN  66.3  4839  37  13  7.4   98.5\n",
       "4        Derek Carr  LVR  68.4  4804  23  14  7.7   94.0"
      ]
     },
     "execution_count": 9,
     "metadata": {},
     "output_type": "execute_result"
    }
   ],
   "source": [
    "# Select stat categories \n",
    "categories = ['Cmp%', 'Yds', 'TD', 'Int', 'Y/A', 'Rate']\n",
    "\n",
    "# Create data subset for radar chart\n",
    "data_radar = data[['Player', 'Tm'] + categories]\n",
    "data_radar.head()"
   ]
  },
  {
   "cell_type": "code",
   "execution_count": 10,
   "id": "fec426c7",
   "metadata": {
    "execution": {
     "iopub.execute_input": "2022-08-02T04:10:04.009876Z",
     "iopub.status.busy": "2022-08-02T04:10:04.008891Z",
     "iopub.status.idle": "2022-08-02T04:10:04.017291Z",
     "shell.execute_reply": "2022-08-02T04:10:04.016299Z"
    },
    "papermill": {
     "duration": 0.01959,
     "end_time": "2022-08-02T04:10:04.019946",
     "exception": false,
     "start_time": "2022-08-02T04:10:04.000356",
     "status": "completed"
    },
    "tags": []
   },
   "outputs": [
    {
     "data": {
      "text/plain": [
       "Player    object\n",
       "Tm        object\n",
       "Cmp%      object\n",
       "Yds       object\n",
       "TD        object\n",
       "Int       object\n",
       "Y/A       object\n",
       "Rate      object\n",
       "dtype: object"
      ]
     },
     "execution_count": 10,
     "metadata": {},
     "output_type": "execute_result"
    }
   ],
   "source": [
    "# Check data types\n",
    "data_radar.dtypes"
   ]
  },
  {
   "cell_type": "code",
   "execution_count": 11,
   "id": "6a4b79cb",
   "metadata": {
    "execution": {
     "iopub.execute_input": "2022-08-02T04:10:04.034409Z",
     "iopub.status.busy": "2022-08-02T04:10:04.033713Z",
     "iopub.status.idle": "2022-08-02T04:10:04.044531Z",
     "shell.execute_reply": "2022-08-02T04:10:04.043451Z"
    },
    "papermill": {
     "duration": 0.020607,
     "end_time": "2022-08-02T04:10:04.046804",
     "exception": false,
     "start_time": "2022-08-02T04:10:04.026197",
     "status": "completed"
    },
    "tags": []
   },
   "outputs": [
    {
     "name": "stderr",
     "output_type": "stream",
     "text": [
      "/opt/conda/lib/python3.7/site-packages/ipykernel_launcher.py:3: SettingWithCopyWarning: \n",
      "A value is trying to be set on a copy of a slice from a DataFrame.\n",
      "Try using .loc[row_indexer,col_indexer] = value instead\n",
      "\n",
      "See the caveats in the documentation: https://pandas.pydata.org/pandas-docs/stable/user_guide/indexing.html#returning-a-view-versus-a-copy\n",
      "  This is separate from the ipykernel package so we can avoid doing imports until\n"
     ]
    }
   ],
   "source": [
    "# Convert data to numerical values\n",
    "for i in categories:\n",
    "    data_radar[i] = pd.to_numeric(data[i])"
   ]
  },
  {
   "cell_type": "code",
   "execution_count": 12,
   "id": "74f4c885",
   "metadata": {
    "execution": {
     "iopub.execute_input": "2022-08-02T04:10:04.061138Z",
     "iopub.status.busy": "2022-08-02T04:10:04.060228Z",
     "iopub.status.idle": "2022-08-02T04:10:04.067868Z",
     "shell.execute_reply": "2022-08-02T04:10:04.067032Z"
    },
    "papermill": {
     "duration": 0.016882,
     "end_time": "2022-08-02T04:10:04.069842",
     "exception": false,
     "start_time": "2022-08-02T04:10:04.052960",
     "status": "completed"
    },
    "tags": []
   },
   "outputs": [
    {
     "data": {
      "text/plain": [
       "Player     object\n",
       "Tm         object\n",
       "Cmp%      float64\n",
       "Yds       float64\n",
       "TD        float64\n",
       "Int       float64\n",
       "Y/A       float64\n",
       "Rate      float64\n",
       "dtype: object"
      ]
     },
     "execution_count": 12,
     "metadata": {},
     "output_type": "execute_result"
    }
   ],
   "source": [
    "# Check data types again\n",
    "data_radar.dtypes"
   ]
  },
  {
   "cell_type": "code",
   "execution_count": 13,
   "id": "bda5efc5",
   "metadata": {
    "execution": {
     "iopub.execute_input": "2022-08-02T04:10:04.084508Z",
     "iopub.status.busy": "2022-08-02T04:10:04.083792Z",
     "iopub.status.idle": "2022-08-02T04:10:04.091528Z",
     "shell.execute_reply": "2022-08-02T04:10:04.090357Z"
    },
    "papermill": {
     "duration": 0.018782,
     "end_time": "2022-08-02T04:10:04.094969",
     "exception": false,
     "start_time": "2022-08-02T04:10:04.076187",
     "status": "completed"
    },
    "tags": []
   },
   "outputs": [
    {
     "name": "stderr",
     "output_type": "stream",
     "text": [
      "/opt/conda/lib/python3.7/site-packages/ipykernel_launcher.py:2: FutureWarning: The default value of regex will change from True to False in a future version. In addition, single character regular expressions will *not* be treated as literal strings when regex=True.\n",
      "  \n",
      "/opt/conda/lib/python3.7/site-packages/ipykernel_launcher.py:2: SettingWithCopyWarning: \n",
      "A value is trying to be set on a copy of a slice from a DataFrame.\n",
      "Try using .loc[row_indexer,col_indexer] = value instead\n",
      "\n",
      "See the caveats in the documentation: https://pandas.pydata.org/pandas-docs/stable/user_guide/indexing.html#returning-a-view-versus-a-copy\n",
      "  \n",
      "/opt/conda/lib/python3.7/site-packages/ipykernel_launcher.py:3: FutureWarning: The default value of regex will change from True to False in a future version. In addition, single character regular expressions will *not* be treated as literal strings when regex=True.\n",
      "  This is separate from the ipykernel package so we can avoid doing imports until\n",
      "/opt/conda/lib/python3.7/site-packages/ipykernel_launcher.py:3: SettingWithCopyWarning: \n",
      "A value is trying to be set on a copy of a slice from a DataFrame.\n",
      "Try using .loc[row_indexer,col_indexer] = value instead\n",
      "\n",
      "See the caveats in the documentation: https://pandas.pydata.org/pandas-docs/stable/user_guide/indexing.html#returning-a-view-versus-a-copy\n",
      "  This is separate from the ipykernel package so we can avoid doing imports until\n"
     ]
    }
   ],
   "source": [
    "# Remove characters for achievements \n",
    "data_radar['Player'] = data_radar['Player'].str.replace('*', '')\n",
    "data_radar['Player'] = data_radar['Player'].str.replace('+', '')"
   ]
  },
  {
   "cell_type": "code",
   "execution_count": 14,
   "id": "0bd97c28",
   "metadata": {
    "execution": {
     "iopub.execute_input": "2022-08-02T04:10:04.110204Z",
     "iopub.status.busy": "2022-08-02T04:10:04.108979Z",
     "iopub.status.idle": "2022-08-02T04:10:04.117175Z",
     "shell.execute_reply": "2022-08-02T04:10:04.116049Z"
    },
    "papermill": {
     "duration": 0.018532,
     "end_time": "2022-08-02T04:10:04.119786",
     "exception": false,
     "start_time": "2022-08-02T04:10:04.101254",
     "status": "completed"
    },
    "tags": []
   },
   "outputs": [],
   "source": [
    "# Filter by passing yards\n",
    "data_radar_filtered = data_radar[data_radar['Yds'] > 1500]"
   ]
  },
  {
   "cell_type": "code",
   "execution_count": 15,
   "id": "551d8868",
   "metadata": {
    "execution": {
     "iopub.execute_input": "2022-08-02T04:10:04.135541Z",
     "iopub.status.busy": "2022-08-02T04:10:04.134412Z",
     "iopub.status.idle": "2022-08-02T04:10:04.153992Z",
     "shell.execute_reply": "2022-08-02T04:10:04.152714Z"
    },
    "papermill": {
     "duration": 0.031345,
     "end_time": "2022-08-02T04:10:04.157725",
     "exception": false,
     "start_time": "2022-08-02T04:10:04.126380",
     "status": "completed"
    },
    "tags": []
   },
   "outputs": [
    {
     "name": "stderr",
     "output_type": "stream",
     "text": [
      "/opt/conda/lib/python3.7/site-packages/ipykernel_launcher.py:3: SettingWithCopyWarning: \n",
      "A value is trying to be set on a copy of a slice from a DataFrame.\n",
      "Try using .loc[row_indexer,col_indexer] = value instead\n",
      "\n",
      "See the caveats in the documentation: https://pandas.pydata.org/pandas-docs/stable/user_guide/indexing.html#returning-a-view-versus-a-copy\n",
      "  This is separate from the ipykernel package so we can avoid doing imports until\n",
      "/opt/conda/lib/python3.7/site-packages/ipykernel_launcher.py:6: SettingWithCopyWarning: \n",
      "A value is trying to be set on a copy of a slice from a DataFrame.\n",
      "Try using .loc[row_indexer,col_indexer] = value instead\n",
      "\n",
      "See the caveats in the documentation: https://pandas.pydata.org/pandas-docs/stable/user_guide/indexing.html#returning-a-view-versus-a-copy\n",
      "  \n"
     ]
    }
   ],
   "source": [
    "# Create columns with percentile rank\n",
    "for i in categories:\n",
    "    data_radar_filtered[i + '_Rank'] = data_radar_filtered[i].rank(pct=True)\n",
    "    \n",
    "# Flip the rank for interceptions\n",
    "data_radar_filtered['Int_Rank'] = 1 - data_radar_filtered['Int_Rank']"
   ]
  },
  {
   "cell_type": "code",
   "execution_count": 16,
   "id": "a2553a66",
   "metadata": {
    "execution": {
     "iopub.execute_input": "2022-08-02T04:10:04.174499Z",
     "iopub.status.busy": "2022-08-02T04:10:04.173372Z",
     "iopub.status.idle": "2022-08-02T04:10:04.194883Z",
     "shell.execute_reply": "2022-08-02T04:10:04.193665Z"
    },
    "papermill": {
     "duration": 0.031532,
     "end_time": "2022-08-02T04:10:04.197232",
     "exception": false,
     "start_time": "2022-08-02T04:10:04.165700",
     "status": "completed"
    },
    "tags": []
   },
   "outputs": [
    {
     "data": {
      "text/html": [
       "<div>\n",
       "<style scoped>\n",
       "    .dataframe tbody tr th:only-of-type {\n",
       "        vertical-align: middle;\n",
       "    }\n",
       "\n",
       "    .dataframe tbody tr th {\n",
       "        vertical-align: top;\n",
       "    }\n",
       "\n",
       "    .dataframe thead th {\n",
       "        text-align: right;\n",
       "    }\n",
       "</style>\n",
       "<table border=\"1\" class=\"dataframe\">\n",
       "  <thead>\n",
       "    <tr style=\"text-align: right;\">\n",
       "      <th></th>\n",
       "      <th>Player</th>\n",
       "      <th>Tm</th>\n",
       "      <th>Cmp%</th>\n",
       "      <th>Yds</th>\n",
       "      <th>TD</th>\n",
       "      <th>Int</th>\n",
       "      <th>Y/A</th>\n",
       "      <th>Rate</th>\n",
       "      <th>Cmp%_Rank</th>\n",
       "      <th>Yds_Rank</th>\n",
       "      <th>TD_Rank</th>\n",
       "      <th>Int_Rank</th>\n",
       "      <th>Y/A_Rank</th>\n",
       "      <th>Rate_Rank</th>\n",
       "    </tr>\n",
       "  </thead>\n",
       "  <tbody>\n",
       "    <tr>\n",
       "      <th>0</th>\n",
       "      <td>Tom Brady</td>\n",
       "      <td>TAM</td>\n",
       "      <td>67.5</td>\n",
       "      <td>5316.0</td>\n",
       "      <td>43.0</td>\n",
       "      <td>12.0</td>\n",
       "      <td>7.4</td>\n",
       "      <td>102.1</td>\n",
       "      <td>0.750000</td>\n",
       "      <td>1.00000</td>\n",
       "      <td>1.00000</td>\n",
       "      <td>0.437500</td>\n",
       "      <td>0.640625</td>\n",
       "      <td>0.81250</td>\n",
       "    </tr>\n",
       "    <tr>\n",
       "      <th>1</th>\n",
       "      <td>Justin Herbert</td>\n",
       "      <td>LAC</td>\n",
       "      <td>65.9</td>\n",
       "      <td>5014.0</td>\n",
       "      <td>38.0</td>\n",
       "      <td>15.0</td>\n",
       "      <td>7.5</td>\n",
       "      <td>97.7</td>\n",
       "      <td>0.468750</td>\n",
       "      <td>0.96875</td>\n",
       "      <td>0.93750</td>\n",
       "      <td>0.093750</td>\n",
       "      <td>0.734375</td>\n",
       "      <td>0.68750</td>\n",
       "    </tr>\n",
       "    <tr>\n",
       "      <th>2</th>\n",
       "      <td>Matthew Stafford</td>\n",
       "      <td>LAR</td>\n",
       "      <td>67.2</td>\n",
       "      <td>4886.0</td>\n",
       "      <td>41.0</td>\n",
       "      <td>17.0</td>\n",
       "      <td>8.1</td>\n",
       "      <td>102.9</td>\n",
       "      <td>0.687500</td>\n",
       "      <td>0.93750</td>\n",
       "      <td>0.96875</td>\n",
       "      <td>0.015625</td>\n",
       "      <td>0.937500</td>\n",
       "      <td>0.84375</td>\n",
       "    </tr>\n",
       "    <tr>\n",
       "      <th>3</th>\n",
       "      <td>Patrick Mahomes</td>\n",
       "      <td>KAN</td>\n",
       "      <td>66.3</td>\n",
       "      <td>4839.0</td>\n",
       "      <td>37.0</td>\n",
       "      <td>13.0</td>\n",
       "      <td>7.4</td>\n",
       "      <td>98.5</td>\n",
       "      <td>0.515625</td>\n",
       "      <td>0.90625</td>\n",
       "      <td>0.87500</td>\n",
       "      <td>0.312500</td>\n",
       "      <td>0.640625</td>\n",
       "      <td>0.71875</td>\n",
       "    </tr>\n",
       "    <tr>\n",
       "      <th>4</th>\n",
       "      <td>Derek Carr</td>\n",
       "      <td>LVR</td>\n",
       "      <td>68.4</td>\n",
       "      <td>4804.0</td>\n",
       "      <td>23.0</td>\n",
       "      <td>14.0</td>\n",
       "      <td>7.7</td>\n",
       "      <td>94.0</td>\n",
       "      <td>0.875000</td>\n",
       "      <td>0.87500</td>\n",
       "      <td>0.62500</td>\n",
       "      <td>0.187500</td>\n",
       "      <td>0.828125</td>\n",
       "      <td>0.59375</td>\n",
       "    </tr>\n",
       "  </tbody>\n",
       "</table>\n",
       "</div>"
      ],
      "text/plain": [
       "             Player   Tm  Cmp%     Yds    TD   Int  Y/A   Rate  Cmp%_Rank  \\\n",
       "0         Tom Brady  TAM  67.5  5316.0  43.0  12.0  7.4  102.1   0.750000   \n",
       "1    Justin Herbert  LAC  65.9  5014.0  38.0  15.0  7.5   97.7   0.468750   \n",
       "2  Matthew Stafford  LAR  67.2  4886.0  41.0  17.0  8.1  102.9   0.687500   \n",
       "3   Patrick Mahomes  KAN  66.3  4839.0  37.0  13.0  7.4   98.5   0.515625   \n",
       "4        Derek Carr  LVR  68.4  4804.0  23.0  14.0  7.7   94.0   0.875000   \n",
       "\n",
       "   Yds_Rank  TD_Rank  Int_Rank  Y/A_Rank  Rate_Rank  \n",
       "0   1.00000  1.00000  0.437500  0.640625    0.81250  \n",
       "1   0.96875  0.93750  0.093750  0.734375    0.68750  \n",
       "2   0.93750  0.96875  0.015625  0.937500    0.84375  \n",
       "3   0.90625  0.87500  0.312500  0.640625    0.71875  \n",
       "4   0.87500  0.62500  0.187500  0.828125    0.59375  "
      ]
     },
     "execution_count": 16,
     "metadata": {},
     "output_type": "execute_result"
    }
   ],
   "source": [
    "# Examine data\n",
    "data_radar_filtered.head()"
   ]
  },
  {
   "cell_type": "code",
   "execution_count": 17,
   "id": "20771bab",
   "metadata": {
    "execution": {
     "iopub.execute_input": "2022-08-02T04:10:04.212640Z",
     "iopub.status.busy": "2022-08-02T04:10:04.212268Z",
     "iopub.status.idle": "2022-08-02T04:10:04.217665Z",
     "shell.execute_reply": "2022-08-02T04:10:04.216561Z"
    },
    "papermill": {
     "duration": 0.015723,
     "end_time": "2022-08-02T04:10:04.219813",
     "exception": false,
     "start_time": "2022-08-02T04:10:04.204090",
     "status": "completed"
    },
    "tags": []
   },
   "outputs": [],
   "source": [
    "# General plot parameters\n",
    "mpl.rcParams['font.family'] = 'Avenir'\n",
    "mpl.rcParams['font.size'] = 16\n",
    "mpl.rcParams['axes.linewidth'] = 0\n",
    "mpl.rcParams['xtick.major.pad'] = 15"
   ]
  },
  {
   "cell_type": "code",
   "execution_count": 18,
   "id": "0f5f2290",
   "metadata": {
    "execution": {
     "iopub.execute_input": "2022-08-02T04:10:04.235149Z",
     "iopub.status.busy": "2022-08-02T04:10:04.234709Z",
     "iopub.status.idle": "2022-08-02T04:10:04.241902Z",
     "shell.execute_reply": "2022-08-02T04:10:04.240798Z"
    },
    "papermill": {
     "duration": 0.017773,
     "end_time": "2022-08-02T04:10:04.244163",
     "exception": false,
     "start_time": "2022-08-02T04:10:04.226390",
     "status": "completed"
    },
    "tags": []
   },
   "outputs": [],
   "source": [
    "# HEX codes of the NFL team colors\n",
    "team_colors = {'ARI':'#97233f', 'ATL':'#a71930', 'BAL':'#241773', 'BUF':'#00338d', 'CAR':'#0085ca', 'CHI':'#0b162a', 'CIN':'#fb4f14', 'CLE':'#311d00', 'DAL':'#041e42', 'DEN':'#002244', 'DET':'#0076b6', 'GNB':'#203731', 'HOU':'#03202f', 'IND':'#002c5f', 'JAX':'#006778', 'KAN':'#e31837', 'LAC':'#002a5e', 'LAR':'#003594', 'MIA':'#008e97', 'MIN':'#4f2683', 'NWE':'#002244', 'NOR':'#d3bc8d', 'NYG':'#0b2265', 'NYJ':'#125740', 'OAK':'#000000', 'PHI':'#004c54', 'PIT':'#ffb612', 'SFO':'#aa0000', 'SEA':'#002244', 'TAM':'#d50a0a', 'TEN':'#0c2340', 'WAS':'#773141'}"
   ]
  },
  {
   "cell_type": "code",
   "execution_count": 19,
   "id": "aeeffcd0",
   "metadata": {
    "execution": {
     "iopub.execute_input": "2022-08-02T04:10:04.259444Z",
     "iopub.status.busy": "2022-08-02T04:10:04.259063Z",
     "iopub.status.idle": "2022-08-02T04:10:04.264554Z",
     "shell.execute_reply": "2022-08-02T04:10:04.263653Z"
    },
    "papermill": {
     "duration": 0.015748,
     "end_time": "2022-08-02T04:10:04.266735",
     "exception": false,
     "start_time": "2022-08-02T04:10:04.250987",
     "status": "completed"
    },
    "tags": []
   },
   "outputs": [],
   "source": [
    "# Calculate angles for radar chart\n",
    "offset = np.pi/6\n",
    "angles = np.linspace(0, 2*np.pi, len(categories) + 1) + offset"
   ]
  }
 ],
 "metadata": {
  "kernelspec": {
   "display_name": "Python 3",
   "language": "python",
   "name": "python3"
  },
  "language_info": {
   "codemirror_mode": {
    "name": "ipython",
    "version": 3
   },
   "file_extension": ".py",
   "mimetype": "text/x-python",
   "name": "python",
   "nbconvert_exporter": "python",
   "pygments_lexer": "ipython3",
   "version": "3.7.12"
  },
  "papermill": {
   "default_parameters": {},
   "duration": 13.017116,
   "end_time": "2022-08-02T04:10:04.995016",
   "environment_variables": {},
   "exception": null,
   "input_path": "__notebook__.ipynb",
   "output_path": "__notebook__.ipynb",
   "parameters": {},
   "start_time": "2022-08-02T04:09:51.977900",
   "version": "2.3.4"
  }
 },
 "nbformat": 4,
 "nbformat_minor": 5
}
